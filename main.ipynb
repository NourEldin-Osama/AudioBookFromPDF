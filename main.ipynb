{
 "cells": [
  {
   "cell_type": "code",
   "execution_count": 1,
   "metadata": {
    "collapsed": true
   },
   "outputs": [
    {
     "name": "stdout",
     "output_type": "stream",
     "text": [
      "Requirement already satisfied: pypdf2 in c:\\users\\noureldin\\appdata\\local\\programs\\python\\python310\\lib\\site-packages (2.11.1)\n",
      "Requirement already satisfied: pyttsx3 in c:\\users\\noureldin\\appdata\\local\\programs\\python\\python310\\lib\\site-packages (2.90)\n",
      "Requirement already satisfied: pypiwin32 in c:\\users\\noureldin\\appdata\\local\\programs\\python\\python310\\lib\\site-packages (from pyttsx3) (223)\n",
      "Requirement already satisfied: pywin32 in c:\\users\\noureldin\\appdata\\local\\programs\\python\\python310\\lib\\site-packages (from pyttsx3) (304)\n",
      "Requirement already satisfied: comtypes in c:\\users\\noureldin\\appdata\\local\\programs\\python\\python310\\lib\\site-packages (from pyttsx3) (1.1.14)\n",
      "Requirement already satisfied: pyaudio in c:\\users\\noureldin\\appdata\\local\\programs\\python\\python310\\lib\\site-packages (0.2.12)\n"
     ]
    }
   ],
   "source": [
    "!pip install pypdf2\n",
    "!pip install pyttsx3\n",
    "!pip install pyaudio"
   ]
  },
  {
   "cell_type": "code",
   "execution_count": 14,
   "outputs": [],
   "source": [
    "import pyttsx3\n",
    "import PyPDF2\n",
    "\n",
    "def read_pdf_and_speak(book_file_path: str):\n",
    "    \"\"\"\n",
    "    Reads the content of a pdf file and make it Audiobook.\n",
    "\n",
    "    Args:\n",
    "        book_file_path (str): The path of the pdf file to read.\n",
    "\n",
    "    Returns:\n",
    "        None\n",
    "    \"\"\"\n",
    "    # Open the pdf file\n",
    "    with open(book_file_path, 'rb') as book:\n",
    "        pdf_reader = PyPDF2.PdfFileReader(book)\n",
    "        pages = pdf_reader.numPages\n",
    "\n",
    "        # Print the number of pages in the pdf\n",
    "        print(f\"# Pages: {pages}\")\n",
    "        speaker = pyttsx3.init()\n",
    "\n",
    "        # Iterate through each page and extract the text\n",
    "        for num in range(1, pages):\n",
    "            page = pdf_reader.getPage(num)\n",
    "            text = page.extract_text()\n",
    "            # Speak the text\n",
    "            speaker.say(text)\n",
    "            speaker.runAndWait()"
   ],
   "metadata": {
    "collapsed": false
   }
  },
  {
   "cell_type": "code",
   "execution_count": null,
   "outputs": [
    {
     "name": "stdout",
     "output_type": "stream",
     "text": [
      "# Pages: 164\n"
     ]
    }
   ],
   "source": [
    "book_path = 'the_duel_and_other_stories._the_tales_of_chekhov_ii.pdf'\n",
    "read_pdf_and_speak(book_path)"
   ],
   "metadata": {
    "collapsed": false
   }
  },
  {
   "cell_type": "code",
   "execution_count": null,
   "outputs": [],
   "source": [],
   "metadata": {
    "collapsed": false
   }
  }
 ],
 "metadata": {
  "kernelspec": {
   "display_name": "Python 3",
   "language": "python",
   "name": "python3"
  },
  "language_info": {
   "codemirror_mode": {
    "name": "ipython",
    "version": 2
   },
   "file_extension": ".py",
   "mimetype": "text/x-python",
   "name": "python",
   "nbconvert_exporter": "python",
   "pygments_lexer": "ipython2",
   "version": "2.7.6"
  }
 },
 "nbformat": 4,
 "nbformat_minor": 0
}
